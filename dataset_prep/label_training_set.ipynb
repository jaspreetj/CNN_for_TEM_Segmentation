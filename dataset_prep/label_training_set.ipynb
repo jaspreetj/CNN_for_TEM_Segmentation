{
 "cells": [
  {
   "cell_type": "markdown",
   "metadata": {},
   "source": [
    "Import Packacges"
   ]
  },
  {
   "cell_type": "code",
   "execution_count": null,
   "metadata": {},
   "outputs": [],
   "source": [
    "import numpy as np\n",
    "import matplotlib as mpl\n",
    "#mpl.use('Agg')\n",
    "import matplotlib.pyplot as plt\n",
    "import matplotlib.patches as mpatches\n",
    "##import pycroscopy as px\n",
    "##import pyUSID as usid\n",
    "import skimage\n",
    "from skimage import io\n",
    "from skimage import filters\n",
    "#from skimage.morphology import disk\n",
    "#from skimage.feature import blob_log\n",
    "from skimage import measure\n",
    "from skimage.filters import threshold_mean, threshold_isodata, threshold_minimum, threshold_otsu, threshold_li\n",
    "#from skimage import exposure\n",
    "import os\n",
    "from pycroscopy.io.translators.df_utils import dm_utils\n",
    "from pycroscopy.io.translators.df_utils import parse_dm3\n",
    "from scipy import fftpack\n",
    "#from segmentation import *\n",
    "#from scipy.stats import norm\n",
    "import scipy\n",
    "import pandas as pd\n",
    "import time\n",
    "import os\n",
    "from skimage.morphology import reconstruction, opening, disk\n",
    "import argparse\n",
    "import warnings\n",
    "import glob\n",
    "warnings.filterwarnings('ignore')\n",
    "\n",
    "### Set directories for importing and storing data\n",
    "os.chdir('/home/jay/ExtraDrive/1k_dataset/dm_files')\n",
    "im_dir = '/home/jay/ExtraDrive/1k_dataset/training_set/dataset/images_full_0404'\n",
    "label_dir = '/home/jay/ExtraDrive/1k_dataset/training_set/dataset/labels_full_0404'"
   ]
  },
  {
   "cell_type": "markdown",
   "metadata": {},
   "source": [
    "Set Up Argument Parsing from Terminal so that GNU Parallel can be used"
   ]
  },
  {
   "cell_type": "code",
   "execution_count": null,
   "metadata": {},
   "outputs": [],
   "source": [
    "parser = argparse.ArgumentParser()\n",
    "parser.add_argument('image_file',type=str)\n",
    "args = parser.parse_args()\n",
    "\n",
    "def normalize_image(image):\n",
    "    return (image - image.min())/image.max()"
   ]
  },
  {
   "cell_type": "markdown",
   "metadata": {},
   "source": [
    "Define image processing function"
   ]
  },
  {
   "cell_type": "code",
   "execution_count": null,
   "metadata": {},
   "outputs": [],
   "source": [
    "def process_image(image_file):\n",
    "    image,p = dm_utils.read_dm4(image_file)  ## Read image\n",
    "    image = skimage.color.rgb2gray(image)\n",
    "    image = normalize_image(image)  ## Normalize on range [0,1]\n",
    "    im_f = normalize_image(filters.gaussian(image,sigma=2))  ## Apply gaussian filter\n",
    "    \n",
    "    seed = im_f.copy() ## First reconstruction step\n",
    "    seed[1:-1,1:-1] = im_f.min()\n",
    "    mask = im_f\n",
    "    r = reconstruction(seed,mask,method='dilation')\n",
    "    \n",
    "    \n",
    "    seed = r.copy()  ##  Second reconstruction;  this step finds the background\n",
    "    seed[1:-1,1:-1] = r.max()\n",
    "    mask = r\n",
    "    r1 = reconstruction(seed,mask,method='erosion')\n",
    "    \n",
    "    back_subtract = normalize_image(np.abs(r - r1) + filters.sobel(np.abs(r -r1))) ##  subtract background (r1) from image (r);  apply sobel filter to get better contour at particle edges\n",
    "    \n",
    "    o = normalize_image(opening(back_subtract,disk(5)))  ## opening removes small white spots (the size of disk controls the size of the smallest component of the particle).  You can see the impact by looking at label images; some look like particles are made up of small circles.\n",
    "\n",
    "    plt.imsave(os.path.join(im_dir,image_file[:-3]+'jpg'),image,cmap='gray')\n",
    "    plt.imsave(os.path.join(label_dir,image_file[:-3]+'jpg'),o>filters.threshold_otsu(o),cmap='gray')"
   ]
  },
  {
   "cell_type": "code",
   "execution_count": null,
   "metadata": {},
   "outputs": [],
   "source": [
    "###  Another example of possible processing parameters\n",
    "\n",
    "def process_TEM_image(image_file):\n",
    "    \n",
    "    image,p = dm_utils.read_dm4(image_file)\n",
    "    image = skimage.color.rgb2gray(image)\n",
    "    scale = p['Root_ImageList_SubDir_000_ImageData_Calibrations_Dimension_SubDir_000_Scale']\n",
    "    \n",
    "    name = os.path.splitext(os.path.basename(image_file))[0]\n",
    "    name_entries = name.split('_')\n",
    "    capture = name_entries[0]\n",
    "    hour = name_entries[2]\n",
    "    minute = name_entries[4]\n",
    "    second = name_entries[6]\n",
    "    frame = name_entries[8]\n",
    "\n",
    "    im = image\n",
    "    im_cut = im.copy()\n",
    "    im = normalize_image(im)\n",
    "    im_f = filters.gaussian(im,sigma = 1.5)\n",
    "\n",
    "    seed = im_f.copy()\n",
    "    seed[1:-1,1:-1] = im_f.min()\n",
    "    mask = im_f\n",
    "    r = reconstruction(seed,mask,method='dilation')\n",
    "    \n",
    "    seed = r.copy()\n",
    "    seed[1:-1,1:-1] = r.max()\n",
    "    mask = r\n",
    "    r1 = reconstruction(seed,mask,method='erosion')\n",
    "    \n",
    "    new_image = np.abs(r - r1)\n",
    "    new_image = normalize_image(new_image)\n",
    "    inv = 1 - new_image\n",
    "\n",
    "    inv_t = new_image > threshold_otsu(new_image)\n",
    "    inv_t = inv_t\n",
    "    return im,inv_t\n",
    "\n",
    "    plt.imsave(os.path.join(im_dir,image_file[:-3]+'jpg'),im_cut,cmap='gray')\n",
    "    plt.imsave(os.path.join(label_dir,image_file[:-3]+'jpg'),inv_t,cmap='gray')"
   ]
  },
  {
   "cell_type": "markdown",
   "metadata": {},
   "source": [
    "Run function to process image passed in terminal"
   ]
  },
  {
   "cell_type": "code",
   "execution_count": null,
   "metadata": {},
   "outputs": [],
   "source": [
    "process_image(args.image_file)"
   ]
  }
 ],
 "metadata": {
  "kernelspec": {
   "display_name": "Python 3",
   "language": "python",
   "name": "python3"
  },
  "language_info": {
   "codemirror_mode": {
    "name": "ipython",
    "version": 3
   },
   "file_extension": ".py",
   "mimetype": "text/x-python",
   "name": "python",
   "nbconvert_exporter": "python",
   "pygments_lexer": "ipython3",
   "version": "3.6.8"
  }
 },
 "nbformat": 4,
 "nbformat_minor": 2
}
