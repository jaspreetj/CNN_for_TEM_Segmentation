{
 "cells": [
  {
   "cell_type": "markdown",
   "metadata": {},
   "source": [
    "Import packages and set directories"
   ]
  },
  {
   "cell_type": "code",
   "execution_count": null,
   "metadata": {},
   "outputs": [],
   "source": [
    "import warnings\n",
    "warnings.filterwarnings('ignore')\n",
    "import numpy as np\n",
    "import matplotlib.pyplot as plt\n",
    "import skimage\n",
    "from skimage.transform import*\n",
    "import os\n",
    "\n",
    "im_dir = (r'/home/jay/Desktop/training_set/images1')\n",
    "lab_dir = (r'/home/jay/Desktop/training_set/labels1')\n",
    "aug_im = (r'/home/jay/Desktop/training_set/augim1_0315')\n",
    "aug_lab = (r'/home/jay/Desktop/training_set/auglab1_0315')"
   ]
  },
  {
   "cell_type": "markdown",
   "metadata": {},
   "source": [
    "Augmentation Process"
   ]
  },
  {
   "cell_type": "code",
   "execution_count": null,
   "metadata": {},
   "outputs": [],
   "source": [
    "for i in range(len(os.listdir(im_dir))):\n",
    "    print('{}/{}'.format(i+1,len(os.listdir(im_dir))))\n",
    "    im = skimage.color.rgb2gray(plt.imread(os.path.join(im_dir,os.listdir(im_dir)[i])))\n",
    "    lab = skimage.color.rgb2gray(plt.imread(os.path.join(lab_dir,os.listdir(lab_dir)[i])))\n",
    "\n",
    "    n_x = int(np.random.rand()*384) ## 448 = 512/8, so that shift can be by almost entire image dimension\n",
    "    n_y = int(np.random.rand()*384)\n",
    "    n_x1 = int(np.random.rand()*384)\n",
    "    n_y1 = int(np.random.rand()*384)\n",
    "    r1 = np.random.rand()\n",
    "    r2 =np.random.rand()\n",
    "    r3 =np.random.rand()\n",
    "    r4 =np.random.rand()\n",
    "    r5 =np.random.rand()\n",
    "    r6 = np.random.rand()\n",
    "\n",
    "    #### Augment Image\n",
    "    os.chdir(aug_im)\n",
    "    im_c = im[n_x:n_x+128,n_y:n_y+128]\n",
    "    plt.imsave('{}_zoom.png'.format(i),resize(im_c,(512,512)),cmap='gray')\n",
    "    im_c = im[n_x1:n_x1+128,n_y1:n_y1+128]\n",
    "    plt.imsave('{}_zoom1.png'.format(i),resize(im_c,(512,512)),cmap='gray')\n",
    "    plt.imsave('{}_base.png'.format(i),im,cmap='gray')\n",
    "\n",
    "\n",
    "    t1 = AffineTransform(translation = (int(r1*im.shape[0]),int(r2*im.shape[1])))\n",
    "    t2 = AffineTransform(translation = (int(r3*im.shape[0]),int(r4*im.shape[1])))\n",
    "    t3 = AffineTransform(translation = (int(r5*im.shape[0]),int(r6*im.shape[1])))\n",
    "    \n",
    "    shift1 = warp(im,t1,mode='wrap')\n",
    "    shift2 = warp(im,t2,mode='wrap')\n",
    "    shift3 = warp(im,t3,mode='wrap')\n",
    "\n",
    "    plt.imsave('{}_shift1.png'.format(i),shift1,cmap='gray')\n",
    "    plt.imsave('{}_shift2.png'.format(i),shift2,cmap='gray')\n",
    "    plt.imsave('{}_shift3.png'.format(i),shift3,cmap='gray')\n",
    "\n",
    "\n",
    "    ###Augment Labels\n",
    "\n",
    "    os.chdir(aug_lab)\n",
    "    lab_c = lab[n_x:n_x+128,n_y:n_y+128]\n",
    "    plt.imsave('{}_zoom.png'.format(i),resize(lab_c,(512,512)),cmap='gray')\n",
    "    lab_c = lab[n_x1:n_x1+128,n_y1:n_y1+128]\n",
    "    plt.imsave('{}_zoom1.png'.format(i),resize(lab_c,(512,512)),cmap='gray')\n",
    "    plt.imsave('{}_base.png'.format(i),lab,cmap='gray')\n",
    "\n",
    "\n",
    "    t1 = AffineTransform(translation = (int(r1*im.shape[0]),int(r2*im.shape[1])))\n",
    "    t2 = AffineTransform(translation = (int(r3*im.shape[0]),int(r4*im.shape[1])))\n",
    "    t3 = AffineTransform(translation = (int(r5*im.shape[0]),int(r6*im.shape[1])))\n",
    "    \n",
    "    shift1 = warp(lab,t1,mode='wrap')\n",
    "    shift2 = warp(lab,t2,mode='wrap')\n",
    "    shift3 = warp(lab,t3,mode='wrap')\n",
    "\n",
    "    plt.imsave('{}_shift1.png'.format(i),shift1,cmap='gray')\n",
    "    plt.imsave('{}_shift2.png'.format(i),shift2,cmap='gray')\n",
    "    plt.imsave('{}_shift3.png'.format(i),shift3,cmap='gray')\n"
   ]
  }
 ],
 "metadata": {
  "kernelspec": {
   "display_name": "Python 3",
   "language": "python",
   "name": "python3"
  },
  "language_info": {
   "codemirror_mode": {
    "name": "ipython",
    "version": 3
   },
   "file_extension": ".py",
   "mimetype": "text/x-python",
   "name": "python",
   "nbconvert_exporter": "python",
   "pygments_lexer": "ipython3",
   "version": "3.6.8"
  }
 },
 "nbformat": 4,
 "nbformat_minor": 2
}
